{
  "nbformat": 4,
  "nbformat_minor": 0,
  "metadata": {
    "colab": {
      "name": "Untitled4.ipynb",
      "provenance": [],
      "authorship_tag": "ABX9TyOz1Caf5J0fEaBbsOrmrLvL",
      "include_colab_link": true
    },
    "kernelspec": {
      "name": "python3",
      "display_name": "Python 3"
    },
    "language_info": {
      "name": "python"
    }
  },
  "cells": [
    {
      "cell_type": "markdown",
      "metadata": {
        "id": "view-in-github",
        "colab_type": "text"
      },
      "source": [
        "<a href=\"https://colab.research.google.com/github/Enggarrahayu/ActivityLivecycle/blob/master/UAS-PCVK.ipynb\" target=\"_parent\"><img src=\"https://colab.research.google.com/assets/colab-badge.svg\" alt=\"Open In Colab\"/></a>"
      ]
    },
    {
      "cell_type": "code",
      "metadata": {
        "colab": {
          "base_uri": "https://localhost:8080/"
        },
        "id": "3SyoG7nOgEkI",
        "outputId": "2fb2f15c-657d-4711-9acc-bb60136df4a1"
      },
      "source": [
        "from google.colab import drive\n",
        "drive.mount('/content/drive')"
      ],
      "execution_count": 6,
      "outputs": [
        {
          "output_type": "stream",
          "text": [
            "Drive already mounted at /content/drive; to attempt to forcibly remount, call drive.mount(\"/content/drive\", force_remount=True).\n"
          ],
          "name": "stdout"
        }
      ]
    },
    {
      "cell_type": "code",
      "metadata": {
        "id": "f2aYp7nyCno2"
      },
      "source": [
        "import numpy as np\n",
        "import matplotlib.pyplot as plt\n",
        "import cv2 as cv\n",
        "from google.colab.patches import cv2_imshow\n",
        "import glob\n",
        "from math import sqrt"
      ],
      "execution_count": 7,
      "outputs": []
    },
    {
      "cell_type": "code",
      "metadata": {
        "id": "xk4bncFnCn1C"
      },
      "source": [
        "# Load Image\n",
        "def LoadLeafImage(leafName):\n",
        "  path = '/content/drive/MyDrive/Leaf Images 04/' + leafName + '/*.jpg'\n",
        "  leaf_img = []\n",
        "  for img in glob.glob(path):\n",
        "    n = cv.imread(img, 0)\n",
        "    leaf_img.append(n)\n",
        "  return leaf_img"
      ],
      "execution_count": 8,
      "outputs": []
    },
    {
      "cell_type": "code",
      "metadata": {
        "id": "8BM8X-JECoGV"
      },
      "source": [
        "# Thresholding\n",
        "def ThresholdLeafImage(listOfLeafImage):\n",
        "  leaf_thresh = []\n",
        "  ret = []\n",
        "  for i in range(0, len(listOfLeafImage)):\n",
        "    n_ret, n_leaf_thresh = cv.threshold(listOfLeafImage[i], 127, 255, cv.THRESH_BINARY)\n",
        "    ret.append(n_ret)\n",
        "    leaf_thresh.append(n_leaf_thresh)\n",
        "  return leaf_thresh"
      ],
      "execution_count": 9,
      "outputs": []
    },
    {
      "cell_type": "code",
      "metadata": {
        "id": "kU7IrVoYC5L6"
      },
      "source": [
        "# Closing\n",
        "def CloseLeafImage(listOfLeafImage):\n",
        "  kernel = np.ones((5,5),np.uint8)\n",
        "  leaf_close = []\n",
        "  for j in range(0, len(listOfLeafImage)):\n",
        "    leaf_closing = cv.morphologyEx(listOfLeafImage[j], cv.MORPH_CLOSE, kernel)\n",
        "    leaf_close.append(leaf_closing)\n",
        "  return leaf_close"
      ],
      "execution_count": 10,
      "outputs": []
    },
    {
      "cell_type": "code",
      "metadata": {
        "id": "R6La4pOzC884"
      },
      "source": [
        "# Find Contours\n",
        "def FindLeafImageContour(listOfLeafImage):\n",
        "  leaf_contour = []\n",
        "  leaf_hierarchy = []\n",
        "  for k in range(0, len(listOfLeafImage)):\n",
        "    contours,hierarchy = cv.findContours(listOfLeafImage[k], cv.RETR_TREE, cv.CHAIN_APPROX_SIMPLE)\n",
        "    leaf_contour.append(contours)\n",
        "    leaf_hierarchy.append(hierarchy)\n",
        "  return leaf_contour"
      ],
      "execution_count": 11,
      "outputs": []
    },
    {
      "cell_type": "code",
      "metadata": {
        "id": "-NrKkU_nC_zy"
      },
      "source": [
        "# Extracting Features (Area)\n",
        "def ExtractLeafImageFeaturesArea(listOfLeafImage):\n",
        "  leaf_area = []\n",
        "  for l in range(0, len(listOfLeafImage)):\n",
        "    cnt = listOfLeafImage[l][0]\n",
        "    area = cv.contourArea(cnt)\n",
        "    leaf_area.append(area)\n",
        "  return leaf_area"
      ],
      "execution_count": 12,
      "outputs": []
    },
    {
      "cell_type": "code",
      "metadata": {
        "id": "tVBP6GW7DB1e"
      },
      "source": [
        "# Extracting Features (Perimeter)\n",
        "def ExtractLeafImageFeaturesPerimeter(listOfLeafImage):\n",
        "  leaf_perimeter = []\n",
        "  for l in range(0, len(listOfLeafImage)):\n",
        "    cnt = listOfLeafImage[l][0]\n",
        "    area = cv.arcLength(cnt,True)\n",
        "    leaf_perimeter.append(area)\n",
        "  return leaf_perimeter"
      ],
      "execution_count": 13,
      "outputs": []
    },
    {
      "cell_type": "code",
      "metadata": {
        "id": "Vr7djAb4DGDJ"
      },
      "source": [
        "def CalculateAverageOfArea(listOfLeafImage):\n",
        "  averageOfArea = sum(listOfLeafImage) / len(listOfLeafImage)\n",
        "  return averageOfArea"
      ],
      "execution_count": 14,
      "outputs": []
    },
    {
      "cell_type": "code",
      "metadata": {
        "id": "m73UE-kSDIpS"
      },
      "source": [
        "def CalculateAverageOfPerimeter(listOfLeafImage):\n",
        "  averageOfPerimeter = sum(listOfLeafImage) / len(listOfLeafImage)\n",
        "  return averageOfPerimeter"
      ],
      "execution_count": 15,
      "outputs": []
    },
    {
      "cell_type": "code",
      "metadata": {
        "id": "QPaICDEMDLeY"
      },
      "source": [
        "def CalculateDistance(area, perimeter, area_1, area_2, area_3, perimeter_1, perimeter_2, perimeter_3):\n",
        "  closestDistance = 0\n",
        "  result = ''\n",
        "  dist_1 = sqrt((pow((area-area_1),2) + pow((perimeter - perimeter_1),2)))\n",
        "  dist_2 = sqrt((pow((area-area_2),2) + pow((perimeter - perimeter_2),2)))\n",
        "  dist_3 = sqrt((pow((area-area_3),2) + pow((perimeter - perimeter_3),2)))\n",
        "  dist_dict = {\n",
        "      'Cornus_Controversa' : dist_1,\n",
        "      'Eucalyptus_Glaucescens' : dist_2,\n",
        "      'Fagus_Sylvatica': dist_3\n",
        "  }\n",
        "  dist_list = [dist_1, dist_2, dist_3]\n",
        "  closestDistance = min(dist_list)\n",
        "  for leafName, leafDistance in dist_dict.items():\n",
        "    if(closestDistance == leafDistance):\n",
        "      result = leafName\n",
        "  return result"
      ],
      "execution_count": 17,
      "outputs": []
    },
    {
      "cell_type": "code",
      "metadata": {
        "id": "YfTU0ZNpDSMn"
      },
      "source": [
        "# Eucalyptus_Glaucescens\n",
        "Eucalyptus_Glaucescens_List =  LoadLeafImage('Eucalyptus_Glaucescens')\n",
        "Eucalyptus_Glaucescens_Thersh = ThresholdLeafImage(Eucalyptus_Glaucescens_List)\n",
        "Eucalyptus_Glaucescens_Close = CloseLeafImage(Eucalyptus_Glaucescens_Thersh)\n",
        "Eucalyptus_Glaucescens_Contour = FindLeafImageContour(Eucalyptus_Glaucescens_Close)\n",
        "Eucalyptus_Glaucescens_Area = ExtractLeafImageFeaturesArea(Eucalyptus_Glaucescens_Contour)\n",
        "Eucalyptus_Glaucescens_Average_Area = CalculateAverageOfArea(Eucalyptus_Glaucescens_Area)\n",
        "Eucalyptus_Glaucescens_Perimeter = ExtractLeafImageFeaturesPerimeter(Eucalyptus_Glaucescens_Contour)\n",
        "Eucalyptus_Glaucescens_Average_Perimeter = CalculateAverageOfPerimeter(Eucalyptus_Glaucescens_Perimeter)\n",
        "\n",
        "# Fagus_Sylvatica\n",
        "Fagus_Sylvatica_List =  LoadLeafImage('Fagus_Sylvatica')\n",
        "Fagus_Sylvatica_Thersh = ThresholdLeafImage(Fagus_Sylvatica_List)\n",
        "Fagus_Sylvatica_Close = CloseLeafImage(Fagus_Sylvatica_Thersh)\n",
        "Fagus_Sylvatica_Contour = FindLeafImageContour(Fagus_Sylvatica_Close)\n",
        "Fagus_Sylvatica_Area = ExtractLeafImageFeaturesArea(Fagus_Sylvatica_Contour)\n",
        "Fagus_Sylvatica_Average_Area = CalculateAverageOfArea(Fagus_Sylvatica_Area)\n",
        "Fagus_Sylvatica_Perimeter = ExtractLeafImageFeaturesPerimeter(Fagus_Sylvatica_Contour)\n",
        "Fagus_Sylvatica_Average_Perimeter = CalculateAverageOfPerimeter(Fagus_Sylvatica_Perimeter)# Training\n",
        "# Cornus_Controversa\n",
        "Cornus_Controversa_List =  LoadLeafImage('Cornus_Controversa')\n",
        "Cornus_Controversa_Thersh = ThresholdLeafImage(Cornus_Controversa_List)\n",
        "Cornus_Controversa_Close = CloseLeafImage(Cornus_Controversa_Thersh)\n",
        "Cornus_Controversa_Contour = FindLeafImageContour(Cornus_Controversa_Close)\n",
        "Cornus_Controversa_Area = ExtractLeafImageFeaturesArea(Cornus_Controversa_Contour)\n",
        "Cornus_Controversa_Average_Area = CalculateAverageOfArea(Cornus_Controversa_Area)\n",
        "Cornus_Controversa_Perimeter = ExtractLeafImageFeaturesPerimeter(Cornus_Controversa_Contour)\n",
        "Cornus_Controversa_Average_Perimeter = CalculateAverageOfPerimeter(Cornus_Controversa_Perimeter)"
      ],
      "execution_count": 18,
      "outputs": []
    },
    {
      "cell_type": "code",
      "metadata": {
        "colab": {
          "base_uri": "https://localhost:8080/",
          "height": 33
        },
        "id": "NMZc7edCDbZ2",
        "outputId": "f6f6947a-9700-4bde-f848-64439ddd00f7"
      },
      "source": [
        "# Testing\n",
        "img_test = LoadLeafImage('Test')\n",
        "img_test_thresh = ThresholdLeafImage(img_test)\n",
        "img_test_close = CloseLeafImage(img_test_thresh)\n",
        "img_test_contour = FindLeafImageContour(img_test_close)\n",
        "img_test_area = ExtractLeafImageFeaturesArea(img_test_contour)\n",
        "img_test_perimeter = ExtractLeafImageFeaturesPerimeter(img_test_contour)\n",
        "\n",
        "result = []\n",
        "for i in range(0, len(img_test)):\n",
        "  dist = CalculateDistance(\n",
        "    img_test_area[i],\n",
        "    img_test_perimeter[i],\n",
        "    Cornus_Controversa_Average_Area,\n",
        "    Eucalyptus_Glaucescens_Average_Area,\n",
        "    Fagus_Sylvatica_Average_Area,\n",
        "    Cornus_Controversa_Average_Perimeter,\n",
        "    Eucalyptus_Glaucescens_Average_Perimeter,\n",
        "    Fagus_Sylvatica_Average_Perimeter)\n",
        "\n",
        "  result.append(dist)\n",
        "\n",
        "  plt.subplot(3,2,i+1),plt.imshow(img_test[i], cmap='gray')\n",
        "  plt.title(result[i])\n",
        "  plt.xticks([]),plt.yticks([])\n",
        "\n",
        "plt.tight_layout()\n",
        "plt.show()"
      ],
      "execution_count": 22,
      "outputs": [
        {
          "output_type": "display_data",
          "data": {
            "text/plain": [
              "<Figure size 432x288 with 0 Axes>"
            ]
          },
          "metadata": {
            "tags": []
          }
        }
      ]
    }
  ]
}